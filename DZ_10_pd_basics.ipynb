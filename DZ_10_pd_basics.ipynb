{
 "cells": [
  {
   "cell_type": "markdown",
   "metadata": {},
   "source": [
    "## Задание 1"
   ]
  },
  {
   "cell_type": "code",
   "execution_count": 42,
   "metadata": {},
   "outputs": [],
   "source": [
    "import pandas as pd"
   ]
  },
  {
   "cell_type": "code",
   "execution_count": 43,
   "metadata": {},
   "outputs": [],
   "source": [
    "ratings = pd.read_csv('ratings.csv')"
   ]
  },
  {
   "cell_type": "code",
   "execution_count": 44,
   "metadata": {},
   "outputs": [],
   "source": [
    "movies = pd.read_csv('movies.csv')"
   ]
  },
  {
   "cell_type": "code",
   "execution_count": 45,
   "metadata": {},
   "outputs": [],
   "source": [
    "# Сортируем данные по оценке = 5, далее группируем по ID фильма, считаем количество данных оценок и сортируем от большего к меньшему\n",
    "ratings_sorted = ratings.query(f'rating == {5}').groupby('movieId').count().sort_values('rating', ascending = False)"
   ]
  },
  {
   "cell_type": "code",
   "execution_count": 48,
   "metadata": {},
   "outputs": [
    {
     "name": "stdout",
     "output_type": "stream",
     "text": [
      "Фильм с наибольшим количетсвом оценок \"5\" представлен в таблице\n"
     ]
    },
    {
     "data": {
      "text/html": [
       "<div>\n",
       "<style scoped>\n",
       "    .dataframe tbody tr th:only-of-type {\n",
       "        vertical-align: middle;\n",
       "    }\n",
       "\n",
       "    .dataframe tbody tr th {\n",
       "        vertical-align: top;\n",
       "    }\n",
       "\n",
       "    .dataframe thead th {\n",
       "        text-align: right;\n",
       "    }\n",
       "</style>\n",
       "<table border=\"1\" class=\"dataframe\">\n",
       "  <thead>\n",
       "    <tr style=\"text-align: right;\">\n",
       "      <th></th>\n",
       "      <th>movieId</th>\n",
       "      <th>userId</th>\n",
       "      <th>rating</th>\n",
       "      <th>timestamp</th>\n",
       "      <th>title</th>\n",
       "      <th>genres</th>\n",
       "    </tr>\n",
       "  </thead>\n",
       "  <tbody>\n",
       "    <tr>\n",
       "      <th>0</th>\n",
       "      <td>318</td>\n",
       "      <td>39553</td>\n",
       "      <td>39553</td>\n",
       "      <td>39553</td>\n",
       "      <td>Shawshank Redemption, The (1994)</td>\n",
       "      <td>Crime|Drama</td>\n",
       "    </tr>\n",
       "  </tbody>\n",
       "</table>\n",
       "</div>"
      ],
      "text/plain": [
       "   movieId  userId  rating  timestamp                             title  \\\n",
       "0      318   39553   39553      39553  Shawshank Redemption, The (1994)   \n",
       "\n",
       "        genres  \n",
       "0  Crime|Drama  "
      ]
     },
     "execution_count": 48,
     "metadata": {},
     "output_type": "execute_result"
    }
   ],
   "source": [
    "movie_joined = ratings_sorted.merge(movies, on='movieId', how='left')\n",
    "print('Фильм с наибольшим количетсвом оценок \"5\" представлен в таблице')\n",
    "movie_joined.head(1)"
   ]
  },
  {
   "cell_type": "markdown",
   "metadata": {},
   "source": [
    "## Задание 2"
   ]
  },
  {
   "cell_type": "markdown",
   "metadata": {},
   "source": [
    "По данным файла power.csv посчитайте суммарное потребление стран Прибалтики (Латвия, Литва и Эстония) категорий 4, 12 и 21 за период с 2005 по 2010 года. Не учитывайте в расчетах отрицательные значения quantity."
   ]
  },
  {
   "cell_type": "code",
   "execution_count": 79,
   "metadata": {},
   "outputs": [
    {
     "name": "stdout",
     "output_type": "stream",
     "text": [
      "Потребление стран прибалтики = 6372.0\n"
     ]
    }
   ],
   "source": [
    "power = pd.read_csv('power.csv')\n",
    "power.head()\n",
    "\n",
    "# накладываем все необходимые фильтры и ищем сумму\n",
    "power_pribaltic = power[((power['country'] == 'Lithuania') | (power['country'] == 'Latvia') | (power['country'] == 'Estonia')) & ((power['year'] >= 2005) & (power['year'] <= 2010)) & ((power['category'] == 4) | (power['category'] == 12) | (power['category'] == 12)) & (power['quantity'] >= 0)]\n",
    "sum_power_pribaltic = power_pribaltic['quantity'].sum()\n",
    "print(f'Потребление стран прибалтики = {sum_power_pribaltic}')\n",
    "\n"
   ]
  },
  {
   "cell_type": "code",
   "execution_count": 80,
   "metadata": {},
   "outputs": [
    {
     "data": {
      "text/html": [
       "<div>\n",
       "<style scoped>\n",
       "    .dataframe tbody tr th:only-of-type {\n",
       "        vertical-align: middle;\n",
       "    }\n",
       "\n",
       "    .dataframe tbody tr th {\n",
       "        vertical-align: top;\n",
       "    }\n",
       "\n",
       "    .dataframe thead th {\n",
       "        text-align: right;\n",
       "    }\n",
       "</style>\n",
       "<table border=\"1\" class=\"dataframe\">\n",
       "  <thead>\n",
       "    <tr style=\"text-align: right;\">\n",
       "      <th></th>\n",
       "      <th>year</th>\n",
       "      <th>quantity</th>\n",
       "      <th>category</th>\n",
       "    </tr>\n",
       "  </thead>\n",
       "  <tbody>\n",
       "    <tr>\n",
       "      <th>count</th>\n",
       "      <td>154.000000</td>\n",
       "      <td>154.000000</td>\n",
       "      <td>154.000000</td>\n",
       "    </tr>\n",
       "    <tr>\n",
       "      <th>mean</th>\n",
       "      <td>2007.500000</td>\n",
       "      <td>41.376623</td>\n",
       "      <td>8.727273</td>\n",
       "    </tr>\n",
       "    <tr>\n",
       "      <th>std</th>\n",
       "      <td>1.530731</td>\n",
       "      <td>86.184866</td>\n",
       "      <td>3.946162</td>\n",
       "    </tr>\n",
       "    <tr>\n",
       "      <th>min</th>\n",
       "      <td>2005.000000</td>\n",
       "      <td>0.000000</td>\n",
       "      <td>4.000000</td>\n",
       "    </tr>\n",
       "    <tr>\n",
       "      <th>25%</th>\n",
       "      <td>2006.000000</td>\n",
       "      <td>1.000000</td>\n",
       "      <td>4.000000</td>\n",
       "    </tr>\n",
       "    <tr>\n",
       "      <th>50%</th>\n",
       "      <td>2007.500000</td>\n",
       "      <td>1.500000</td>\n",
       "      <td>12.000000</td>\n",
       "    </tr>\n",
       "    <tr>\n",
       "      <th>75%</th>\n",
       "      <td>2009.000000</td>\n",
       "      <td>17.500000</td>\n",
       "      <td>12.000000</td>\n",
       "    </tr>\n",
       "    <tr>\n",
       "      <th>max</th>\n",
       "      <td>2010.000000</td>\n",
       "      <td>378.000000</td>\n",
       "      <td>12.000000</td>\n",
       "    </tr>\n",
       "  </tbody>\n",
       "</table>\n",
       "</div>"
      ],
      "text/plain": [
       "              year    quantity    category\n",
       "count   154.000000  154.000000  154.000000\n",
       "mean   2007.500000   41.376623    8.727273\n",
       "std       1.530731   86.184866    3.946162\n",
       "min    2005.000000    0.000000    4.000000\n",
       "25%    2006.000000    1.000000    4.000000\n",
       "50%    2007.500000    1.500000   12.000000\n",
       "75%    2009.000000   17.500000   12.000000\n",
       "max    2010.000000  378.000000   12.000000"
      ]
     },
     "execution_count": 80,
     "metadata": {},
     "output_type": "execute_result"
    }
   ],
   "source": [
    "power_pribaltic.describe()"
   ]
  },
  {
   "cell_type": "markdown",
   "metadata": {},
   "source": [
    "## Задание 3"
   ]
  },
  {
   "cell_type": "markdown",
   "metadata": {},
   "source": [
    "Выберите страницу любого сайта с табличными данными. Импортируйте таблицы в pandas dataframe.\n",
    "Примеры страниц (необязательно брать именно эти):"
   ]
  },
  {
   "cell_type": "code",
   "execution_count": 92,
   "metadata": {},
   "outputs": [],
   "source": [
    "url = 'https://www.finanz.ru/aktsii/realnom-vremeni-spisok/rts'"
   ]
  },
  {
   "cell_type": "code",
   "execution_count": 93,
   "metadata": {},
   "outputs": [],
   "source": [
    "df = pd.read_html(url, attrs = {'class': 'quote_list'}, encoding = 'utf-8')"
   ]
  },
  {
   "cell_type": "code",
   "execution_count": 105,
   "metadata": {},
   "outputs": [
    {
     "data": {
      "text/plain": [
       "[    Unnamed: 0  \\\n",
       " 0          NaN   \n",
       " 1          NaN   \n",
       " 2          NaN   \n",
       " 3          NaN   \n",
       " 4          NaN   \n",
       " 5          NaN   \n",
       " 6          NaN   \n",
       " 7          NaN   \n",
       " 8          NaN   \n",
       " 9          NaN   \n",
       " 10         NaN   \n",
       " 11         NaN   \n",
       " 12         NaN   \n",
       " 13         NaN   \n",
       " 14         NaN   \n",
       " 15         NaN   \n",
       " 16         NaN   \n",
       " 17         NaN   \n",
       " 18         NaN   \n",
       " 19         NaN   \n",
       " 20         NaN   \n",
       " 21         NaN   \n",
       " 22         NaN   \n",
       " 23         NaN   \n",
       " 24         NaN   \n",
       " 25         NaN   \n",
       " 26         NaN   \n",
       " 27         NaN   \n",
       " 28         NaN   \n",
       " 29         NaN   \n",
       " 30         NaN   \n",
       " 31         NaN   \n",
       " 32         NaN   \n",
       " \n",
       "    Имя  function __handleSortingClick(componentName, fieldName, sortOrder) {  $.ajax({  url: \"/Ajax/IndexShareListForRealtime/RTS\",  type: \"post\",  data: \"orderBy=\" + componentName + \":\" + fieldName + \":\" + sortOrder,  success: function (v, x) {  $('#index-list-container').html(v);  try { trackPI(); } catch (e) { }  },  error: function () {  }  });  }  \\\n",
       " 0                         Aeroflot - Russian Airlines                                                                                                                                                                                                                                                                                                               \n",
       " 1                                              ALROSA                                                                                                                                                                                                                                                                                                               \n",
       " 2                                        Federal Grid                                                                                                                                                                                                                                                                                                               \n",
       " 3                                        GAZPROM PJSC                                                                                                                                                                                                                                                                                                               \n",
       " 4                                           INTER RAO                                                                                                                                                                                                                                                                                                               \n",
       " 5                                        JSFC Sistema                                                                                                                                                                                                                                                                                                               \n",
       " 6                                                 LSR                                                                                                                                                                                                                                                                                                               \n",
       " 7                                  LUKOIL Oil Company                                                                                                                                                                                                                                                                                                               \n",
       " 8                                              Magnit                                                                                                                                                                                                                                                                                                               \n",
       " 9                     Magnitogorsk Iron & Steel Works                                                                                                                                                                                                                                                                                                               \n",
       " 10                     Mobile TeleSystems (Spons ADRs                                                                                                                                                                                                                                                                                                               \n",
       " 11                          Moscow Exchange MICEX-RTS                                                                                                                                                                                                                                                                                                               \n",
       " 12                                 Norilsk Nickel JSC                                                                                                                                                                                                                                                                                                               \n",
       " 13                                            NOVATEK                                                                                                                                                                                                                                                                                                               \n",
       " 14                                  Novolipetsk Steel                                                                                                                                                                                                                                                                                                               \n",
       " 15                                           Phosagro                                                                                                                                                                                                                                                                                                               \n",
       " 16                                                PIK                                                                                                                                                                                                                                                                                                               \n",
       " 17                                          Polymetal                                                                                                                                                                                                                                                                                                               \n",
       " 18                                Rosneft Oil Company                                                                                                                                                                                                                                                                                                               \n",
       " 19                                            ROSSETI                                                                                                                                                                                                                                                                                                               \n",
       " 20                                    Rostelecom PJSC                                                                                                                                                                                                                                                                                                               \n",
       " 21                            RusHydro (Federal Hydro                                                                                                                                                                                                                                                                                                               \n",
       " 22                                           Sberbank                                                                                                                                                                                                                                                                                                               \n",
       " 23                                      Sberbank Pref                                                                                                                                                                                                                                                                                                               \n",
       " 24                                          Severstal                                                                                                                                                                                                                                                                                                               \n",
       " 25                                     Surgutneftegas                                                                                                                                                                                                                                                                                                               \n",
       " 26                                Surgutneftegas Pref                                                                                                                                                                                                                                                                                                               \n",
       " 27                                       TATNEFT PJSC                                                                                                                                                                                                                                                                                                               \n",
       " 28                                       TATNEFT Pref                                                                                                                                                                                                                                                                                                               \n",
       " 29                                     Transneft Pref                                                                                                                                                                                                                                                                                                               \n",
       " 30                              Unipro (ex EON Russia                                                                                                                                                                                                                                                                                                               \n",
       " 31                                           VTB Bank                                                                                                                                                                                                                                                                                                               \n",
       " 32                                             Yandex                                                                                                                                                                                                                                                                                                               \n",
       " \n",
       "             ISIN Пред. закр.   Посл. зн.              Объём        %    +/-  \\\n",
       " 0   RU0009062285        7270        7210   1 345 128 269,00  -0,83 %    -60   \n",
       " 1   RU0007252813        9295        9195   1 208 786 589,00  -1,08 %   -100   \n",
       " 2   RU000A0JPNN9         020         020     150 585 848,00   0,55 %      0   \n",
       " 3   RU0007661625       19000       19032   9 218 713 918,00   0,17 %     32   \n",
       " 4   RU000A0JPNM1         534         538   3 190 912 499,00   0,73 %      4   \n",
       " 5   RU000A0DQZE3        2920        2873   2 905 732 708,00  -1,61 %    -47   \n",
       " 6   RU000A0JPFP0       89580       88700      53 905 368,00  -0,98 %   -880   \n",
       " 7   RU0009024277    4 994,00    5 033,50   7 407 309 394,00   0,79 %   3950   \n",
       " 8   RU000A0JKQU8    5 040,50    5 382,50   6 803 969 840,00   6,79 %  34200   \n",
       " 9   RU0009084396        4742        4720   1 570 038 402,00  -0,46 %    -22   \n",
       " 10  RU0007775219       31805       32235   2 270 966 532,00   1,35 %    430   \n",
       " 11  RU000A0JR4A1       15900       16351   2 661 937 807,00   2,84 %    451   \n",
       " 12  RU0007288411   22 842,00   23 230,00   5 590 205 326,00   1,70 %  38800   \n",
       " 13  RU000A0DKVS5    1 198,40    1 185,00   1 069 964 106,00  -1,12 %  -1340   \n",
       " 14  RU0009046452       19830       19750   2 862 666 299,00  -0,40 %    -80   \n",
       " 15  RU000A0JRKT8    3 070,00    3 074,00     191 846 395,00   0,13 %    400   \n",
       " 16  RU000A0JP7J7       59410       58500      63 768 673,00  -1,53 %   -910   \n",
       " 17  JE00B6T5S470    1 663,70    1 646,70   1 587 281 318,00  -1,02 %  -1700   \n",
       " 18  RU000A0J2Q06       43275       43805   3 198 827 065,00   1,22 %    530   \n",
       " 19  RU000A0JPVJ0         170         170     201 212 639,00  -0,26 %      0   \n",
       " 20  RU0008943394        9750        9724     305 652 206,00  -0,27 %    -26   \n",
       " 21  RU000A0JPKH7         078         078     775 157 679,00   0,73 %      1   \n",
       " 22  RU0009029540       27549       27795  18 658 788 745,00   0,89 %    246   \n",
       " 23  RU0009029557       24884       25097   1 822 187 752,00   0,86 %    213   \n",
       " 24  RU0009046510    1 165,80    1 178,40   1 501 653 269,00   1,08 %   1260   \n",
       " 25  RU0008926258        3467        3476   1 018 174 379,00   0,25 %      9   \n",
       " 26  RU0009029524        3929        3897   1 284 973 473,00  -0,81 %    -32   \n",
       " 27  RU0009033591       49760       49550   2 395 592 566,00  -0,42 %   -210   \n",
       " 28  RU0006944147       46890       46770     394 710 061,00  -0,26 %   -120   \n",
       " 29  RU0009091573  142 900,00  143 450,00     219 994 700,00   0,38 %  55000   \n",
       " 30  RU000A0JNGA5         279         280     114 924 260,00   0,29 %      1   \n",
       " 31  RU000A0JP5V6         004         004   1 002 191 544,00   0,07 %      0   \n",
       " 32  NL0009805522    5 066,40    5 179,60   4 239 471 050,00   2,23 %  11320   \n",
       " \n",
       "        Время  \n",
       " 0   19:47:30  \n",
       " 1   19:47:02  \n",
       " 2   19:47:24  \n",
       " 3   19:47:33  \n",
       " 4   19:47:01  \n",
       " 5   19:47:26  \n",
       " 6   19:44:35  \n",
       " 7   19:47:32  \n",
       " 8   19:47:31  \n",
       " 9   19:47:05  \n",
       " 10  19:47:31  \n",
       " 11  19:47:24  \n",
       " 12  19:47:24  \n",
       " 13  19:47:21  \n",
       " 14  19:47:29  \n",
       " 15  19:47:02  \n",
       " 16  19:46:48  \n",
       " 17  19:47:27  \n",
       " 18  19:46:55  \n",
       " 19  19:47:01  \n",
       " 20  19:47:01  \n",
       " 21  19:47:13  \n",
       " 22  19:47:25  \n",
       " 23  19:47:24  \n",
       " 24  19:47:08  \n",
       " 25  19:47:07  \n",
       " 26  19:47:07  \n",
       " 27  19:47:15  \n",
       " 28  19:47:13  \n",
       " 29  19:46:49  \n",
       " 30  19:47:27  \n",
       " 31  19:47:23  \n",
       " 32  19:47:33  ]"
      ]
     },
     "execution_count": 105,
     "metadata": {},
     "output_type": "execute_result"
    }
   ],
   "source": [
    "df"
   ]
  },
  {
   "cell_type": "code",
   "execution_count": null,
   "metadata": {},
   "outputs": [],
   "source": []
  }
 ],
 "metadata": {
  "kernelspec": {
   "display_name": "Python 3",
   "language": "python",
   "name": "python3"
  },
  "language_info": {
   "codemirror_mode": {
    "name": "ipython",
    "version": 3
   },
   "file_extension": ".py",
   "mimetype": "text/x-python",
   "name": "python",
   "nbconvert_exporter": "python",
   "pygments_lexer": "ipython3",
   "version": "3.8.3"
  }
 },
 "nbformat": 4,
 "nbformat_minor": 4
}
