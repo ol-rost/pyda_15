{
 "cells": [
  {
   "cell_type": "code",
   "execution_count": 1,
   "metadata": {},
   "outputs": [],
   "source": [
    "import numpy as np\n",
    "import pylab as pl\n",
    "import warnings\n",
    "import sklearn\n",
    "\n",
    "from matplotlib import pyplot as plt\n",
    "from scipy import linalg\n",
    "from sklearn.datasets import load_digits\n",
    "from sklearn.decomposition import TruncatedSVD\n",
    "from sklearn.ensemble import RandomForestClassifier\n",
    "from sklearn.decomposition import PCA\n",
    "warnings.filterwarnings(\"ignore\")"
   ]
  },
  {
   "cell_type": "code",
   "execution_count": 2,
   "metadata": {},
   "outputs": [
    {
     "name": "stdout",
     "output_type": "stream",
     "text": [
      "[[-1  0  0]\n",
      " [ 0 -1  0]\n",
      " [ 0  0 -1]]\n"
     ]
    },
    {
     "data": {
      "text/plain": [
       "array([[1, 0, 0],\n",
       "       [0, 1, 0],\n",
       "       [0, 0, 1]])"
      ]
     },
     "execution_count": 2,
     "metadata": {},
     "output_type": "execute_result"
    }
   ],
   "source": [
    "# Диагональная, ортогональная, не единичная\n",
    "\n",
    "A = np.array([[-1,0,0],[0,-1,0],[0,0,-1]])\n",
    "AT = A.transpose()\n",
    "print(AT)\n",
    "A.dot(AT)"
   ]
  },
  {
   "cell_type": "code",
   "execution_count": 3,
   "metadata": {},
   "outputs": [],
   "source": [
    "# Верхнетреугольная, ортогональная и нижнеугольная ортогональная - не придумал, из системы уравнений для такой матрицы решения не нашел"
   ]
  },
  {
   "cell_type": "code",
   "execution_count": 4,
   "metadata": {},
   "outputs": [
    {
     "data": {
      "text/plain": [
       "1.0"
      ]
     },
     "execution_count": 4,
     "metadata": {},
     "output_type": "execute_result"
    }
   ],
   "source": [
    "# Определитель равен 1\n",
    "\n",
    "C = np.array([[1,1],[1,2]])\n",
    "np.linalg.det(C)"
   ]
  },
  {
   "cell_type": "code",
   "execution_count": 5,
   "metadata": {},
   "outputs": [
    {
     "name": "stdout",
     "output_type": "stream",
     "text": [
      "[[2 2]\n",
      " [1 3]]\n"
     ]
    }
   ],
   "source": [
    "# Собственные значения и собственные вектора матрицы\n",
    "\n",
    "m = np.array([[2, 2],\n",
    "              [1, 3]])\n",
    "print(m)"
   ]
  },
  {
   "cell_type": "code",
   "execution_count": 6,
   "metadata": {},
   "outputs": [
    {
     "name": "stdout",
     "output_type": "stream",
     "text": [
      "Собственное значение 1.0\n",
      "Собственный вектор для собственного значения 1.0 [-0.89442719  0.4472136 ]\n",
      "Собственное значение 4.0\n",
      "Собственный вектор для собственного значения 4.0 [-0.70710678 -0.70710678]\n"
     ]
    }
   ],
   "source": [
    "w, v = np.linalg.eig(m)\n",
    "for i in range(len(w)):\n",
    "    print(\"Собственное значение\", str(w[i]))\n",
    "    print(\"Собственный вектор для собственного значения\",str(w[i]), str(v[:,i]))\n"
   ]
  },
  {
   "cell_type": "markdown",
   "metadata": {},
   "source": [
    "## Уровень 1"
   ]
  },
  {
   "cell_type": "markdown",
   "metadata": {},
   "source": [
    "#### Спектральное разложение матрицы"
   ]
  },
  {
   "cell_type": "code",
   "execution_count": 7,
   "metadata": {},
   "outputs": [
    {
     "name": "stdout",
     "output_type": "stream",
     "text": [
      "[[1 2]\n",
      " [2 3]]\n"
     ]
    }
   ],
   "source": [
    "\n",
    "m = np.array([[1, 2],\n",
    "              [2,3]])\n",
    "print(m)"
   ]
  },
  {
   "cell_type": "code",
   "execution_count": 8,
   "metadata": {},
   "outputs": [
    {
     "name": "stdout",
     "output_type": "stream",
     "text": [
      "Eigenvalues:\n",
      "[-0.23606798  4.23606798]\n",
      "\n",
      "Eigenvectors:\n",
      "[[-0.85065081 -0.52573111]\n",
      " [ 0.52573111 -0.85065081]]\n"
     ]
    }
   ],
   "source": [
    "a, U = linalg.eig(m)\n",
    "print('Eigenvalues:')\n",
    "print(np.array(a, dtype=float))\n",
    "print('\\nEigenvectors:')\n",
    "print(U)"
   ]
  },
  {
   "cell_type": "code",
   "execution_count": 9,
   "metadata": {},
   "outputs": [
    {
     "name": "stdout",
     "output_type": "stream",
     "text": [
      "[[1. 2.]\n",
      " [2. 3.]]\n"
     ]
    }
   ],
   "source": [
    "print(np.array(U.dot(np.diag(a)).dot(U.T), dtype=float))"
   ]
  },
  {
   "cell_type": "markdown",
   "metadata": {},
   "source": [
    "#### Постройте зависимость качества восстановления рукописных цифр (MNIST) в зависимости от различного количества компонент PCA."
   ]
  },
  {
   "cell_type": "code",
   "execution_count": 10,
   "metadata": {},
   "outputs": [
    {
     "name": "stdout",
     "output_type": "stream",
     "text": [
      "(1797, 64)\n"
     ]
    },
    {
     "data": {
      "text/plain": [
       "<Figure size 432x288 with 0 Axes>"
      ]
     },
     "metadata": {},
     "output_type": "display_data"
    },
    {
     "data": {
      "image/png": "[encoded data removed]",
      "text/plain": [
       "<Figure size 288x288 with 1 Axes>"
      ]
     },
     "metadata": {
      "needs_background": "light"
     },
     "output_type": "display_data"
    }
   ],
   "source": [
    "## Загружаем данные по рукописной цифре\n",
    "\n",
    "digits = load_digits()\n",
    "print(digits.data.shape)\n",
    "\n",
    "plt.gray() \n",
    "plt.matshow(digits.images[0]) \n",
    "plt.show()"
   ]
  },
  {
   "cell_type": "code",
   "execution_count": 11,
   "metadata": {},
   "outputs": [
    {
     "data": {
      "text/plain": [
       "array([[ 0.,  0.,  5., ...,  0.,  0.,  0.],\n",
       "       [ 0.,  0.,  0., ..., 10.,  0.,  0.],\n",
       "       [ 0.,  0.,  0., ..., 16.,  9.,  0.],\n",
       "       ...,\n",
       "       [ 0.,  0.,  1., ...,  6.,  0.,  0.],\n",
       "       [ 0.,  0.,  2., ..., 12.,  0.,  0.],\n",
       "       [ 0.,  0., 10., ..., 12.,  1.,  0.]])"
      ]
     },
     "execution_count": 11,
     "metadata": {},
     "output_type": "execute_result"
    }
   ],
   "source": [
    "A = digits.data\n",
    "A"
   ]
  },
  {
   "cell_type": "code",
   "execution_count": 12,
   "metadata": {},
   "outputs": [
    {
     "data": {
      "text/plain": [
       "PCA(n_components=62)"
      ]
     },
     "execution_count": 12,
     "metadata": {},
     "output_type": "execute_result"
    }
   ],
   "source": [
    "# Применяем к данным разложение PCA\n",
    "\n",
    "pca = PCA(n_components=62)\n",
    "pca.fit(A)"
   ]
  },
  {
   "cell_type": "code",
   "execution_count": 13,
   "metadata": {},
   "outputs": [
    {
     "name": "stdout",
     "output_type": "stream",
     "text": [
      "(1797, 62)\n"
     ]
    }
   ],
   "source": [
    "C = pca.transform(A)\n",
    "print(C.shape)"
   ]
  },
  {
   "cell_type": "code",
   "execution_count": 14,
   "metadata": {},
   "outputs": [
    {
     "name": "stdout",
     "output_type": "stream",
     "text": [
      "(1797, 64)\n"
     ]
    }
   ],
   "source": [
    "D = pca.inverse_transform(C)\n",
    "print(D.shape)"
   ]
  },
  {
   "cell_type": "code",
   "execution_count": 15,
   "metadata": {},
   "outputs": [
    {
     "data": {
      "text/plain": [
       "3.269255357233208e-29"
      ]
     },
     "execution_count": 15,
     "metadata": {},
     "output_type": "execute_result"
    }
   ],
   "source": [
    "# Ищем среднеквадратическое отклонение\n",
    "\n",
    "sklearn.metrics.mean_squared_error(A,D)"
   ]
  },
  {
   "cell_type": "code",
   "execution_count": 16,
   "metadata": {},
   "outputs": [
    {
     "data": {
      "text/plain": [
       "3.670683290814935e-05"
      ]
     },
     "execution_count": 16,
     "metadata": {},
     "output_type": "execute_result"
    }
   ],
   "source": [
    "# Как пример делаем разложение на 58 компонентах PCA\n",
    "\n",
    "pca58 = PCA(n_components=58)\n",
    "pca58.fit(A)\n",
    "E = pca58.transform(A)\n",
    "F = pca58.inverse_transform(E)\n",
    "\n",
    "sklearn.metrics.mean_squared_error(A,F)"
   ]
  },
  {
   "cell_type": "code",
   "execution_count": 17,
   "metadata": {},
   "outputs": [
    {
     "name": "stdout",
     "output_type": "stream",
     "text": [
      "1 15.977678462234529\n",
      "2 13.421012200761464\n",
      "3 11.206800697129394\n",
      "4 9.627986407129443\n",
      "5 8.542447615203336\n",
      "6 7.619390865132192\n",
      "7 6.809148516968291\n",
      "8 6.121796587416844\n",
      "9 5.492288541843317\n",
      "10 4.9142994482917\n",
      "11 4.468938706244961\n",
      "12 4.042319131667764\n",
      "13 3.7002837879188015\n",
      "14 3.367257567420372\n",
      "15 3.091922964014908\n",
      "16 2.8272124987097382\n",
      "17 2.579818896847909\n",
      "18 2.3453605613049673\n",
      "19 2.154463210579682\n",
      "20 1.9843542604219042\n",
      "21 1.8172952996440115\n",
      "22 1.667667103529549\n",
      "23 1.5235629864795617\n",
      "24 1.3879031624055664\n",
      "25 1.2572069986443037\n",
      "26 1.1453229007402896\n",
      "27 1.0372463914831997\n",
      "28 0.9405503124938559\n",
      "29 0.8486216852934705\n",
      "30 0.7681432576929974\n",
      "31 0.6980131831964889\n",
      "32 0.6316628117111458\n",
      "33 0.5684357047919384\n",
      "34 0.506852970372549\n",
      "35 0.44896990566639816\n",
      "36 0.3938174353190021\n",
      "37 0.34564640477592135\n",
      "38 0.3028924172250831\n",
      "39 0.26116338084672486\n",
      "40 0.22147132289588\n",
      "41 0.18581949479365767\n",
      "42 0.15603541761847037\n",
      "43 0.12765800399303592\n",
      "44 0.10126700469810138\n",
      "45 0.07937337936466574\n",
      "46 0.05919369521897202\n",
      "47 0.04109542554333101\n",
      "48 0.0265532099177732\n",
      "49 0.016092618775246082\n",
      "50 0.00850207611310813\n",
      "51 0.004561294804538934\n",
      "52 0.0030128945301338725\n",
      "53 0.0020270249434842158\n",
      "54 0.0010785255910710722\n",
      "55 0.00045908565128294096\n",
      "56 0.00022561309146386737\n",
      "57 9.329500575010281e-05\n",
      "58 3.670683290814935e-05\n",
      "59 1.676401297670137e-05\n",
      "60 6.43740484487222e-06\n",
      "61 3.2752981016729296e-29\n",
      "62 3.269255357233208e-29\n"
     ]
    }
   ],
   "source": [
    "# Прописываем цикл и смотрим как меняется среднеквадратическое отклонение в зависимости от количества компонент PCA\n",
    "\n",
    "a = list()\n",
    "for i in range(1,63):\n",
    "    pca = PCA(n_components=i)\n",
    "    pca.fit(A)\n",
    "    C = pca.transform(A)\n",
    "    D = pca.inverse_transform(C)\n",
    "    print(i, sklearn.metrics.mean_squared_error(A,D))\n",
    "    a.append(sklearn.metrics.mean_squared_error(A,D))"
   ]
  },
  {
   "cell_type": "code",
   "execution_count": 18,
   "metadata": {},
   "outputs": [
    {
     "name": "stdout",
     "output_type": "stream",
     "text": [
      "[15.977678462234529, 13.421012200761464, 11.206800697129394, 9.627986407129443, 8.542447615203336, 7.619390865132192, 6.809148516968291, 6.121796587416844, 5.492288541843317, 4.9142994482917, 4.468938706244961, 4.042319131667764, 3.7002837879188015, 3.367257567420372, 3.091922964014908, 2.8272124987097382, 2.579818896847909, 2.3453605613049673, 2.154463210579682, 1.9843542604219042, 1.8172952996440115, 1.667667103529549, 1.5235629864795617, 1.3879031624055664, 1.2572069986443037, 1.1453229007402896, 1.0372463914831997, 0.9405503124938559, 0.8486216852934705, 0.7681432576929974, 0.6980131831964889, 0.6316628117111458, 0.5684357047919384, 0.506852970372549, 0.44896990566639816, 0.3938174353190021, 0.34564640477592135, 0.3028924172250831, 0.26116338084672486, 0.22147132289588, 0.18581949479365767, 0.15603541761847037, 0.12765800399303592, 0.10126700469810138, 0.07937337936466574, 0.05919369521897202, 0.04109542554333101, 0.0265532099177732, 0.016092618775246082, 0.00850207611310813, 0.004561294804538934, 0.0030128945301338725, 0.0020270249434842158, 0.0010785255910710722, 0.00045908565128294096, 0.00022561309146386737, 9.329500575010281e-05, 3.670683290814935e-05, 1.676401297670137e-05, 6.43740484487222e-06, 3.2752981016729296e-29, 3.269255357233208e-29]\n"
     ]
    }
   ],
   "source": [
    "print(a)"
   ]
  },
  {
   "cell_type": "code",
   "execution_count": 19,
   "metadata": {},
   "outputs": [],
   "source": [
    "# Вывод: видим, что восстановление данных начинает значительно терять качество при приближении компонент CPA к 1"
   ]
  }
 ],
 "metadata": {
  "kernelspec": {
   "display_name": "Python 3",
   "language": "python",
   "name": "python3"
  },
  "language_info": {
   "codemirror_mode": {
    "name": "ipython",
    "version": 3
   },
   "file_extension": ".py",
   "mimetype": "text/x-python",
   "name": "python",
   "nbconvert_exporter": "python",
   "pygments_lexer": "ipython3",
   "version": "3.8.5"
  }
 },
 "nbformat": 4,
 "nbformat_minor": 4
}
