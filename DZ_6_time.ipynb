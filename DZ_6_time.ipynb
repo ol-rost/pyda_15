{
 "cells": [
  {
   "cell_type": "code",
   "execution_count": 9,
   "metadata": {},
   "outputs": [
    {
     "name": "stdout",
     "output_type": "stream",
     "text": [
      "1977-08-18 00:00:00\n",
      "2013-10-11 00:00:00\n",
      "2002-10-02 00:00:00\n"
     ]
    }
   ],
   "source": [
    "# Задание 1\n",
    "\n",
    "import datetime as dt\n",
    "\n",
    "the_moscow_times = dt.datetime.strptime('Wednesday, October 2, 2002', '%A, %B %d, %Y')\n",
    "the_guardian = dt.datetime.strptime('Friday, 11.10.13', '%A, %d.%m.%y')\n",
    "daily_news = dt.datetime.strptime('Thursday, 18 August 1977', '%A, %d %B %Y')\n",
    "print(f'{daily_news}\\n{the_guardian}\\n{the_moscow_times}')"
   ]
  },
  {
   "cell_type": "code",
   "execution_count": 20,
   "metadata": {},
   "outputs": [
    {
     "name": "stdout",
     "output_type": "stream",
     "text": [
      "<class 'list'>\n",
      "2018-04-02 True\n",
      "2018-02-29 False\n",
      "2018-19-02 False\n"
     ]
    }
   ],
   "source": [
    "# Задание 2\n",
    "\n",
    "stream = ['2018-04-02', '2018-02-29', '2018-19-02']\n",
    "for i in stream:\n",
    "    try:\n",
    "        dt.datetime.strptime(i,'%Y-%m-%d')\n",
    "        print(f'{i} True')\n",
    "    except:\n",
    "        print(f'{i} False')\n"
   ]
  },
  {
   "cell_type": "markdown",
   "metadata": {},
   "source": [
    "Напишите функцию date_range, которая возвращает список дат за период от start_date до end_date. Даты должны вводиться в формате YYYY-MM-DD. В случае неверного формата или при start_date > end_date должен возвращаться пустой список."
   ]
  },
  {
   "cell_type": "code",
   "execution_count": 31,
   "metadata": {},
   "outputs": [
    {
     "data": {
      "text/plain": [
       "['2020-09-06', '2020-09-07', '2020-09-08', '2020-09-09', '2020-09-10']"
      ]
     },
     "execution_count": 31,
     "metadata": {},
     "output_type": "execute_result"
    }
   ],
   "source": [
    "# Задание 3\n",
    "def date_range(start_date, end_date):\n",
    "    date_range = []\n",
    "    \n",
    "    try:\n",
    "        start_date = dt.datetime.strptime(start_date,'%Y-%m-%d')\n",
    "        end_date = dt.datetime.strptime(end_date,'%Y-%m-%d')\n",
    "        if start_date > end_date:\n",
    "            return date_range\n",
    "        elif start_date < end_date:\n",
    "            while start_date < end_date:\n",
    "                start_date += dt.timedelta(days = 1)\n",
    "                date_range.append(start_date.strftime('%Y-%m-%d'))\n",
    "            return date_range\n",
    "    except:\n",
    "        return date_range\n",
    "\n",
    "date_range('2020-09-5', '2020-09-10')\n",
    "        "
   ]
  },
  {
   "cell_type": "code",
   "execution_count": null,
   "metadata": {},
   "outputs": [],
   "source": []
  }
 ],
 "metadata": {
  "kernelspec": {
   "display_name": "Python 3",
   "language": "python",
   "name": "python3"
  },
  "language_info": {
   "codemirror_mode": {
    "name": "ipython",
    "version": 3
   },
   "file_extension": ".py",
   "mimetype": "text/x-python",
   "name": "python",
   "nbconvert_exporter": "python",
   "pygments_lexer": "ipython3",
   "version": "3.8.3"
  }
 },
 "nbformat": 4,
 "nbformat_minor": 4
}
