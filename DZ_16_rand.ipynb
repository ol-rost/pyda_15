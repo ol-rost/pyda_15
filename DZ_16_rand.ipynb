{
 "cells": [
  {
   "cell_type": "markdown",
   "metadata": {},
   "source": [
    "## Задание"
   ]
  },
  {
   "cell_type": "markdown",
   "metadata": {},
   "source": [
    "Смоделировать игру против лотерейного автомата типа “777”. Игрок платит 1 руб., после чего выпадает случайное целое число, равномерно распределенное от 0 до 999. При некоторых значениях числа игрок получает выигрыш (см. справа)\n",
    "\n",
    "Выгодна ли игра игроку?\n",
    "\n",
    "Сколько в среднем приобретает\n",
    "или теряет игрок за одну игру?\n",
    "\n",
    "777: 200 руб.\n",
    "999: 100 руб.\n",
    "555: 50 руб.\n",
    "333: 15 руб.\n",
    "111: 10 руб.\n",
    "*77: 5 руб.\n",
    "**7: 3 руб.\n",
    "*00: 2 руб.\n",
    "**0: 1 руб."
   ]
  },
  {
   "cell_type": "code",
   "execution_count": 1,
   "metadata": {},
   "outputs": [],
   "source": [
    "import numpy as np"
   ]
  },
  {
   "cell_type": "code",
   "execution_count": 44,
   "metadata": {},
   "outputs": [
    {
     "name": "stdout",
     "output_type": "stream",
     "text": [
      "100000\n",
      "81357\n",
      "-0.1864\n"
     ]
    }
   ],
   "source": [
    "trials = 100000\n",
    "pay = 0\n",
    "win = 0\n",
    "\n",
    "for i in range(trials):\n",
    "    lotery_play = int(np.random.uniform(0,1000))\n",
    "    pay += 1\n",
    "    if lotery_play == 777:\n",
    "        win += 200\n",
    "    elif lotery_play == 999:\n",
    "        win += 100\n",
    "    elif lotery_play == 555:\n",
    "        win += 50\n",
    "    elif lotery_play == 333:\n",
    "        win += 15\n",
    "    elif lotery_play == 111:\n",
    "        win += 10\n",
    "    elif lotery_play%100 == 77:\n",
    "        win += 5\n",
    "    elif lotery_play%10 == 7:\n",
    "        win += 3\n",
    "    elif lotery_play%100 == 0:\n",
    "        win += 2\n",
    "    elif lotery_play%10 == 0:\n",
    "        win += 1\n",
    "\n",
    "print(pay)\n",
    "print(win)\n",
    "average_win_or_loss = win/trials - pay/trials\n",
    "print(round(average_win_or_loss,4))"
   ]
  },
  {
   "cell_type": "markdown",
   "metadata": {},
   "source": [
    "Вывод: игра не выгодна игроку, в среднем он теряет около 20 копеек на каждую сыгранную игру"
   ]
  },
  {
   "cell_type": "code",
   "execution_count": 41,
   "metadata": {},
   "outputs": [
    {
     "name": "stdout",
     "output_type": "stream",
     "text": [
      "0.799\n"
     ]
    }
   ],
   "source": [
    "overall_outcomes = 1000\n",
    "p_777 = 1/1000\n",
    "w_777 = 200\n",
    "p_999 = 1/1000\n",
    "w_999 = 100\n",
    "p_555 = 1/1000\n",
    "w_555 = 50\n",
    "p_333 = 1/1000\n",
    "w_333 = 15\n",
    "p_111 = 1/1000\n",
    "w_111 = 10\n",
    "p_77 = 9/1000\n",
    "w_77 = 5\n",
    "p_7 = 90/1000\n",
    "w_7 = 3\n",
    "p_00 = 9/1000\n",
    "w_00 = 2\n",
    "p_0 = 91/1000\n",
    "w_0 = 1\n",
    "\n",
    "average_win = p_777*w_777 + p_999*w_999 +p_555*w_555 +p_333*w_333 +p_111*w_111 +p_77*w_77 +p_7*w_7 +p_00*w_00 +p_0*w_0\n",
    "print(average_win)"
   ]
  },
  {
   "cell_type": "markdown",
   "metadata": {},
   "source": [
    "Теоретичесая вероятность и частота прктически совпадают, с большим колчисетвом опытов частота приближается к теоретической вероятность.\n",
    "Не уверен, что правильно посчитана теоретическая вероятность, может где-то вычел лишний случай или наоборот не досчитался."
   ]
  }
 ],
 "metadata": {
  "kernelspec": {
   "display_name": "Python 3",
   "language": "python",
   "name": "python3"
  },
  "language_info": {
   "codemirror_mode": {
    "name": "ipython",
    "version": 3
   },
   "file_extension": ".py",
   "mimetype": "text/x-python",
   "name": "python",
   "nbconvert_exporter": "python",
   "pygments_lexer": "ipython3",
   "version": "3.8.3"
  }
 },
 "nbformat": 4,
 "nbformat_minor": 4
}
