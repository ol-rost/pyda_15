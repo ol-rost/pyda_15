{
 "cells": [
  {
   "cell_type": "code",
   "execution_count": 7,
   "metadata": {},
   "outputs": [
    {
     "name": "stdout",
     "output_type": "stream",
     "text": [
      "Фраза 1 длинее фразы 2\n"
     ]
    }
   ],
   "source": [
    "# Задание 1\n",
    "\n",
    "phrase_1 = 'Насколько проще было бы писать программы, если бы не заказчики'\n",
    "phrase_2 = '640Кб должно хватить для любых задач. Билл Гейтс (по легенде)'\n",
    "if len(phrase_1) > len(phrase_2):\n",
    "    print('Фраза 1 длинее фразы 2')\n",
    "elif len(phrase_1) == len(phrase_2):\n",
    "    print('Фразы равной длины')\n",
    "else:\n",
    "    print('Фраза 2 длинее фразы 1')"
   ]
  },
  {
   "cell_type": "code",
   "execution_count": null,
   "metadata": {},
   "outputs": [],
   "source": [
    "# Задание 2\n",
    "\n",
    "year = 2012\n",
    "\n",
    "if year % 4 == 0:\n",
    "    print('Високосный год')\n",
    "else:\n",
    "    print('Обычный год')"
   ]
  },
  {
   "cell_type": "code",
   "execution_count": 2,
   "metadata": {},
   "outputs": [
    {
     "name": "stdout",
     "output_type": "stream",
     "text": [
      "Введите день 3\n",
      "Введите месяц Март\n",
      "Рыбы\n"
     ]
    }
   ],
   "source": [
    "# Задание 3\n",
    "\n",
    "day_input = int(input('Введите день '))\n",
    "month_input = input('Введите месяц ')\n",
    "\n",
    "if month_input == 'Март' and day_input >= 21 or month_input == 'Апрель' and day_input <= 19:\n",
    "    print('Овен')\n",
    "elif month_input == 'Апрель' and day_input >= 20 or month_input == 'Май' and day_input <= 20:\n",
    "    print('Телец')\n",
    "elif month_input == 'Май' and day_input >= 21 or month_input == 'Июнь' and day_input <= 21:\n",
    "    print('Близнецы')    \n",
    "elif month_input == 'Июнь' and day_input >= 22 or month_input == 'Июль' and day_input <= 22:\n",
    "    print('Рак')    \n",
    "elif month_input == 'Июль' and day_input >= 23 or month_input == 'Август' and day_input <= 22:\n",
    "    print('Лев')    \n",
    "elif month_input == 'Август' and day_input >= 23 or month_input == 'Сентябрь' and day_input <= 22:\n",
    "    print('Дева')    \n",
    "elif month_input == 'Сентябрь' and day_input >= 23 or month_input == 'Октябрь' and day_input <= 23:\n",
    "    print('Весы')    \n",
    "elif month_input == 'Октябрь' and day_input >= 24 or month_input == 'Ноябрь' and day_input <= 22:\n",
    "    print('Скорпион')   \n",
    "elif month_input == 'Ноябрь' and day_input >= 23 or month_input == 'Декабрь' and day_input <= 21:\n",
    "    print('Стрелец')\n",
    "elif month_input == 'Декабрь' and day_input >= 22 or month_input == 'Январь' and day_input <= 20:\n",
    "    print('Козерог')\n",
    "elif month_input == 'Январь' and day_input >= 21 or month_input == 'Февраль' and day_input <= 18:\n",
    "    print('Водолей')\n",
    "elif month_input == 'Февраль' and day_input >= 19 or month_input == 'Март' and day_input <= 20:\n",
    "    print('Рыбы')\n",
    "else:\n",
    "    print('Неправильно введены данные, формат даты - число, месяц - в именительном падеже')"
   ]
  },
  {
   "cell_type": "code",
   "execution_count": 32,
   "metadata": {},
   "outputs": [
    {
     "name": "stdout",
     "output_type": "stream",
     "text": [
      "Стандартная коробка №3\n"
     ]
    }
   ],
   "source": [
    "#  Задание 4\n",
    "\n",
    "width = 15\n",
    "length = 15\n",
    "height = 15\n",
    "\n",
    "if width < 15 and length < 15 and height < 15:\n",
    "    print('Коробка №1')\n",
    "elif length > 200:\n",
    "    print('Коробка для лыж')\n",
    "elif width > 15 and width < 50 or height > 15 and height < 50 or length > 15 and length < 50:\n",
    "    print('Коробка №2')\n",
    "else:\n",
    "    print('Стандартная коробка №3')"
   ]
  },
  {
   "cell_type": "code",
   "execution_count": 37,
   "metadata": {},
   "outputs": [
    {
     "name": "stdout",
     "output_type": "stream",
     "text": [
      "Счастливый билет\n"
     ]
    }
   ],
   "source": [
    "# Задание 5\n",
    "\n",
    "a = '123123'\n",
    "if int(a[0]) + int(a[1]) + int(a[2]) == int(a[3]) + int(a[4]) + int(a[5]):\n",
    "    print('Счастливый билет')\n",
    "else:\n",
    "    print('Обыкновенный билет')"
   ]
  },
  {
   "cell_type": "code",
   "execution_count": null,
   "metadata": {},
   "outputs": [],
   "source": [
    "# Задание 5 второй вариант\n",
    "\n",
    "    "
   ]
  }
 ],
 "metadata": {
  "kernelspec": {
   "display_name": "Python 3",
   "language": "python",
   "name": "python3"
  },
  "language_info": {
   "codemirror_mode": {
    "name": "ipython",
    "version": 3
   },
   "file_extension": ".py",
   "mimetype": "text/x-python",
   "name": "python",
   "nbconvert_exporter": "python",
   "pygments_lexer": "ipython3",
   "version": "3.8.3"
  }
 },
 "nbformat": 4,
 "nbformat_minor": 4
}
