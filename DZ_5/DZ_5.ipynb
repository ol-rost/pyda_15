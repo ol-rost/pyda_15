{
 "cells": [
  {
   "cell_type": "code",
   "execution_count": 2,
   "metadata": {},
   "outputs": [],
   "source": [
    "# Задание 1\n",
    "\n",
    "import json\n",
    "\n",
    "purchases = dict()\n",
    "with open ('/Users/olegrostov/Desktop/Netology/Python/DZ/DZ_5/Downloads/purchase_log.txt', encoding = 'utf-8') as file:\n",
    "    file.readline()\n",
    "    for line in file:\n",
    "        line = json.loads(line.strip())\n",
    "        purchases.update({line['user_id']:line['category']})       \n",
    "       "
   ]
  },
  {
   "cell_type": "code",
   "execution_count": 3,
   "metadata": {},
   "outputs": [],
   "source": [
    "# Задание 2\n",
    "\n",
    "with open('/Users/olegrostov/Desktop/Netology/Python/DZ/DZ_5/Downloads/visit_log.csv', 'r', encoding = 'utf-8') as file_r:\n",
    "    with open('/Users/olegrostov/Desktop/Netology/Python/DZ/DZ_5/Downloads/funnel.csv', 'w', encoding = 'utf-8') as file_w:\n",
    "        file_r.readline()\n",
    "        for line in file_r:\n",
    "            line = line.strip().split(',')\n",
    "            if line[0] in purchases:\n",
    "                category = purchases[line[0]]\n",
    "                file_w.write(f'{line[0]}, {line[1]}, {category}\\n')\n",
    "            else:\n",
    "                continue"
   ]
  },
  {
   "cell_type": "code",
   "execution_count": null,
   "metadata": {},
   "outputs": [],
   "source": [
    " "
   ]
  }
 ],
 "metadata": {
  "kernelspec": {
   "display_name": "Python 3",
   "language": "python",
   "name": "python3"
  },
  "language_info": {
   "codemirror_mode": {
    "name": "ipython",
    "version": 3
   },
   "file_extension": ".py",
   "mimetype": "text/x-python",
   "name": "python",
   "nbconvert_exporter": "python",
   "pygments_lexer": "ipython3",
   "version": "3.8.3"
  }
 },
 "nbformat": 4,
 "nbformat_minor": 4
}
