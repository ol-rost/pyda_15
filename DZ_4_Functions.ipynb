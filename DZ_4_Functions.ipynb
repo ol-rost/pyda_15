{
 "cells": [
  {
   "cell_type": "code",
   "execution_count": 5,
   "metadata": {},
   "outputs": [
    {
     "name": "stdout",
     "output_type": "stream",
     "text": [
      "Введите команду:\n",
      "sdfj\n",
      "Введена неверная команда. Для выхода из цикла введите q.\n",
      "Введите команду:\n",
      "q\n",
      "До свидания!\n"
     ]
    }
   ],
   "source": [
    "documents = [\n",
    " {'type': 'passport', 'number': '2207 876234', 'name': 'Василий Гупкин'},\n",
    " {'type': 'invoice', 'number': '11-2', 'name': 'Геннадий Покемонов'},\n",
    " {'type': 'insurance', 'number': '10006', 'name': 'Аристарх Павлов'}\n",
    "]\n",
    "\n",
    "directories = {\n",
    " '1': ['2207 876234', '11-2'],\n",
    " '2': ['10006'],\n",
    " '3': []\n",
    "}\n",
    "\n",
    "def main():\n",
    "    while True:\n",
    "        comand_name = input('Введите команду:\\n')\n",
    "        if comand_name == 'p':\n",
    "            p()\n",
    "        elif comand_name == 's':\n",
    "            s()\n",
    "        elif comand_name == 'l':\n",
    "            l()\n",
    "        elif comand_name == 'ads':\n",
    "            ads()\n",
    "        elif comand_name == 'ds':\n",
    "            ds()\n",
    "        elif comand_name == 'q':\n",
    "            print('До свидания!')\n",
    "            break\n",
    "        else:\n",
    "            print('Введена неверная команда. Для выхода из цикла введите q.')\n",
    "\n",
    "main()"
   ]
  },
  {
   "cell_type": "code",
   "execution_count": null,
   "metadata": {},
   "outputs": [],
   "source": [
    "# Задание 1.1 \n",
    "\n",
    "def p():\n",
    "    user_input = input('Введите номер документа:\\n')\n",
    "    for el in documents:\n",
    "        if el['number'] == user_input:\n",
    "            return print('Владелец документа: ', el['name'])\n",
    "    return print('Документ не найден в базе')\n",
    "    \n",
    "            \n",
    "p()"
   ]
  },
  {
   "cell_type": "code",
   "execution_count": null,
   "metadata": {},
   "outputs": [],
   "source": [
    "# Задание 1.2\n",
    "\n",
    "def s():\n",
    "    user_input = input('Введите номер документа:\\n')\n",
    "    for key, values in directories.items():\n",
    "        if user_input in values:\n",
    "            return print(f'Документ хранится на полке:{key}')\n",
    "    return print('Документ не найден в базе')\n",
    "            \n",
    "s()\n",
    "    "
   ]
  },
  {
   "cell_type": "code",
   "execution_count": 19,
   "metadata": {},
   "outputs": [
    {
     "name": "stdout",
     "output_type": "stream",
     "text": [
      "№: 2207 876234, тип: passport, владелец: Василий Гупкин, номер полки: 1\n",
      "№: 11-2, тип: invoice, владелец: Геннадий Покемонов, номер полки: 1\n",
      "№: 10006, тип: insurance, владелец: Аристарх Павлов, номер полки: 2\n"
     ]
    }
   ],
   "source": [
    "# Задание 1.3\n",
    "\n",
    "def l():\n",
    "    my_list = documents.copy()\n",
    "    for el in my_list:\n",
    "        for polkas in directories.items():\n",
    "            if el[\"number\"] in polkas[1]:\n",
    "                el.update({'polka': polkas[0]})\n",
    "        print(f'№: {el[\"number\"]}, тип: {el[\"type\"]}, владелец: {el[\"name\"]}, номер полки: {el[\"polka\"]}')\n",
    "\n",
    "l()"
   ]
  },
  {
   "cell_type": "code",
   "execution_count": 65,
   "metadata": {},
   "outputs": [
    {
     "name": "stdout",
     "output_type": "stream",
     "text": [
      "Введите номер полки:\n",
      "3\n",
      "Полка добавлена. Текущий перечень полок: dict_keys(['1', '2', '3'])\n"
     ]
    }
   ],
   "source": [
    "# Задание 1.4\n",
    "\n",
    "def ads():\n",
    "    user_input = input('Введите номер полки:\\n')\n",
    "    for key in directories.keys():\n",
    "        if key == user_input:\n",
    "            return print(f'Номер полки уже существует. Текущий перечень полок: {directories.keys()}')\n",
    "            continue\n",
    "    directories.update({user_input: []})\n",
    "    return print(f'Полка добавлена. Текущий перечень полок: {directories.keys()}')\n",
    "ads()"
   ]
  },
  {
   "cell_type": "code",
   "execution_count": 66,
   "metadata": {},
   "outputs": [
    {
     "name": "stdout",
     "output_type": "stream",
     "text": [
      "Введите номер полки:\n",
      "5\n",
      "Такой полки не существует. Текущий перечень полок: dict_keys(['1', '2', '3'])\n"
     ]
    }
   ],
   "source": [
    "# Задание 1.5\n",
    "\n",
    "def ds():\n",
    "    user_input = input('Введите номер полки:\\n')\n",
    "    for key, values in directories.items():\n",
    "        if key == user_input and values == []:\n",
    "            directories.pop(user_input)\n",
    "            return print(f'Полка удалена. Текущий перечень полок: {directories.keys()}')\n",
    "        elif key == user_input and values != []:\n",
    "            return print(f'На полке есть документы, удалите их перед удалением полки. Текущий перечень полок: {directories.keys()}')\n",
    "    return print(f'Такой полки не существует. Текущий перечень полок: {directories.keys()}')\n",
    "ds()"
   ]
  },
  {
   "cell_type": "code",
   "execution_count": null,
   "metadata": {},
   "outputs": [],
   "source": []
  }
 ],
 "metadata": {
  "kernelspec": {
   "display_name": "Python 3",
   "language": "python",
   "name": "python3"
  }
 },
 "nbformat": 4,
 "nbformat_minor": 4
}
