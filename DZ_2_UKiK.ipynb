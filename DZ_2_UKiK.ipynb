{
 "cells": [
  {
   "cell_type": "code",
   "execution_count": 18,
   "metadata": {},
   "outputs": [
    {
     "name": "stdout",
     "output_type": "stream",
     "text": [
      "t\n"
     ]
    }
   ],
   "source": [
    "# Задание 1 \n",
    "\n",
    "word = 'testing'\n",
    "\n",
    "if len(word)%2 == 0:\n",
    "    start = len(word)//2 - 1\n",
    "    end = len(word)//2 + 1\n",
    "    print(word[start:end])\n",
    "else:\n",
    "    print(word[len(word)//2])"
   ]
  },
  {
   "cell_type": "code",
   "execution_count": 34,
   "metadata": {},
   "outputs": [
    {
     "name": "stdout",
     "output_type": "stream",
     "text": [
      "Введите число:\n",
      "45\n",
      "\n",
      "Введите число:\n",
      "1\n",
      "\n",
      "Введите число:\n",
      "0\n",
      "\n",
      "Результат 46\n"
     ]
    }
   ],
   "source": [
    "# Задание 2\n",
    "\n",
    "summ = int()\n",
    "n = int(input('Введите число:\\n'))\n",
    "\n",
    "while n != 0:\n",
    "    summ += n\n",
    "    n = int(input('\\nВведите число:\\n'))\n",
    "    \n",
    "print(f'\\nРезультат {summ}')"
   ]
  },
  {
   "cell_type": "code",
   "execution_count": 51,
   "metadata": {},
   "outputs": [
    {
     "name": "stdout",
     "output_type": "stream",
     "text": [
      "Идеальные пары:\n",
      "('Alex', 'Emma')\n",
      "('Arthur', 'Kate')\n",
      "('John', 'Kira')\n",
      "('Peter', 'Liza')\n",
      "('Richard', 'Trisha')\n",
      "boys = ['Peter', 'Alex', 'John', 'Arthur', 'Richard']\n",
      "girls = ['Kate', 'Liza', 'Kira', 'Emma', 'Trisha']\n"
     ]
    }
   ],
   "source": [
    "# Задание 3\n",
    "\n",
    "boys = ['Peter', 'Alex', 'John', 'Arthur', 'Richard']\n",
    "girls = ['Kate', 'Liza', 'Kira', 'Emma', 'Trisha']\n",
    "\n",
    "if len(boys) != len(girls):\n",
    "    print('Кому-то может не хватить пары')\n",
    "else:\n",
    "    boys_and_girls = zip(sorted(boys), sorted(girls))\n",
    "    print('Идеальные пары:')\n",
    "    for i in boys_and_girls:\n",
    "        print(i[0],'и',i[1])\n",
    "    print(f'boys = {boys}')\n",
    "    print(f'girls = {girls}')"
   ]
  },
  {
   "cell_type": "code",
   "execution_count": 69,
   "metadata": {},
   "outputs": [
    {
     "name": "stdout",
     "output_type": "stream",
     "text": [
      "Средняя температура в странах:\n",
      "Thailand - 23.9 C\n",
      "Germany - 13.8 C\n",
      "Russia - 3.7 C\n",
      "Poland - 12.0 C\n"
     ]
    }
   ],
   "source": [
    "# Задание 4\n",
    "\n",
    "countries_temperature = [\n",
    "['Thailand', [75.2, 77, 78.8, 73.4, 68, 75.2, 77]],\n",
    "['Germany', [57.2, 55.4, 59, 59, 53.6]],\n",
    "['Russia', [35.6, 37.4, 39.2, 41, 42.8, 39.2, 35.6]],\n",
    "['Poland', [50, 50, 53.6, 57.2, 55.4, 55.4]]\n",
    "]\n",
    "\n",
    "print('Средняя температура в странах:')\n",
    "for countries in countries_temperature:\n",
    "    print(countries[0],'-', round((sum(countries[1])/len(countries[1])-32)*5/9,1),'C')"
   ]
  },
  {
   "cell_type": "code",
   "execution_count": 88,
   "metadata": {},
   "outputs": [
    {
     "name": "stdout",
     "output_type": "stream",
     "text": [
      "23.25\n"
     ]
    }
   ],
   "source": [
    "# Задание 5\n",
    "\n",
    "stream = [\n",
    "'2018-01-01,user1,3',\n",
    "'2018-01-07,user1,4',\n",
    "'2018-03-29,user1,1',\n",
    "'2018-04-04,user1,13',\n",
    "'2018-01-05,user2,7',\n",
    "'2018-06-14,user3,4',\n",
    "'2018-07-02,user3,10',\n",
    "'2018-03-21,user4,19',\n",
    "'2018-03-22,user4,4',\n",
    "'2018-04-22,user4,8',\n",
    "'2018-05-03,user4,9',\n",
    "'2018-05-11,user4,11',\n",
    "]\n",
    "\n",
    "user_list = []\n",
    "views = 0\n",
    "\n",
    "for el in stream:\n",
    "    stream_list = el.split(',')\n",
    "    if stream_list[1] not in user_list:\n",
    "        user_list.append(stream_list[1])\n",
    "    views += int(stream_list[2])\n",
    "    \n",
    "\n",
    "print(views/len(user_list))"
   ]
  },
  {
   "cell_type": "code",
   "execution_count": 101,
   "metadata": {},
   "outputs": [
    {
     "name": "stdout",
     "output_type": "stream",
     "text": [
      "Введите числа через пробел: 5 4 5 4\n",
      "Результат:\n",
      "['5', '4']\n"
     ]
    }
   ],
   "source": [
    "# Задание 6\n",
    "\n",
    "user_input = input('Введите числа через пробел: ')\n",
    "\n",
    "unrepeated = []\n",
    "\n",
    "new_elements = user_input.split(' ')\n",
    "\n",
    "for i in new_elements:\n",
    "    if new_elements.count(i) > 1 and i not in unrepeated:\n",
    "        unrepeated.append(i)\n",
    "        \n",
    "print(f'Результат:\\n{unrepeated}')"
   ]
  },
  {
   "cell_type": "markdown",
   "metadata": {},
   "source": []
  }
 ],
 "metadata": {
  "kernelspec": {
   "display_name": "Python 3",
   "language": "python",
   "name": "python3"
  },
  "language_info": {
   "codemirror_mode": {
    "name": "ipython",
    "version": 3
   },
   "file_extension": ".py",
   "mimetype": "text/x-python",
   "name": "python",
   "nbconvert_exporter": "python",
   "pygments_lexer": "ipython3",
   "version": "3.8.3"
  }
 },
 "nbformat": 4,
 "nbformat_minor": 4
}
