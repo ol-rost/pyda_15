{
 "cells": [
  {
   "cell_type": "code",
   "execution_count": 31,
   "metadata": {},
   "outputs": [
    {
     "name": "stdout",
     "output_type": "stream",
     "text": [
      "Результат: {98, 35, 15, 213, 54, 119}\n"
     ]
    }
   ],
   "source": [
    "#  Задание 1\n",
    "\n",
    "geo_mark = set()\n",
    "\n",
    "ids = {'user1': [213, 213, 213, 15, 213], \n",
    "       'user2': [54, 54, 119, 119, 119], \n",
    "       'user3': [213, 98, 98, 35]}\n",
    "\n",
    "for values in ids.values():\n",
    "    geo_mark.update(values)\n",
    "print(f'Результат: {geo_mark}')\n"
   ]
  },
  {
   "cell_type": "code",
   "execution_count": 55,
   "metadata": {},
   "outputs": [
    {
     "name": "stdout",
     "output_type": "stream",
     "text": [
      "Поисковых запросов, содержащих 3 слов(а): 44.44 %\n",
      "Поисковых запросов, содержащих 2 слов(а): 33.33 %\n",
      "Поисковых запросов, содержащих 5 слов(а): 22.22 %\n"
     ]
    }
   ],
   "source": [
    "# Задание 2\n",
    "\n",
    "queries = [\n",
    "    'смотреть сериалы онлайн',\n",
    "    'новости спорта',\n",
    "    'афиша кино',\n",
    "    'курс доллара',\n",
    "    'сериалы этим летом',\n",
    "    'курс по питону',\n",
    "    'сериалы про спорт',\n",
    "    'корона 3 сезон смотреть онлайн',\n",
    "    'манчестер юнайтед ньюкасл смотреть онлайн'\n",
    "]\n",
    "\n",
    "num_words = {}\n",
    "queries_total = 0\n",
    "\n",
    "for query in queries:\n",
    "    query_words = query.split(' ')\n",
    "    if len(query_words) not in num_words:\n",
    "        num_words[len(query_words)] = 1\n",
    "    else:\n",
    "        num_words[len(query_words)] += 1\n",
    "    queries_total += 1\n",
    "\n",
    "for key, values in num_words.items():\n",
    "    print(f'Поисковых запросов, содержащих {key} слов(а): {round(values/queries_total*100,2)} %')"
   ]
  },
  {
   "cell_type": "code",
   "execution_count": 77,
   "metadata": {},
   "outputs": [
    {
     "name": "stdout",
     "output_type": "stream",
     "text": [
      "{'vk': {'revenue': 103, 'cost': 98, 'ROI': 5.1}, 'yandex': {'revenue': 179, 'cost': 153, 'ROI': 16.99}, 'facebook': {'revenue': 103, 'cost': 110, 'ROI': -6.36}, 'adwords': {'revenue': 35, 'cost': 34, 'ROI': 2.94}, 'twitter': {'revenue': 11, 'cost': 24, 'ROI': -54.17}}\n"
     ]
    }
   ],
   "source": [
    "# Задание 3\n",
    "\n",
    "\n",
    "results = {\n",
    "    'vk': {'revenue': 103, 'cost': 98},\n",
    "    'yandex': {'revenue': 179, 'cost': 153},\n",
    "    'facebook': {'revenue': 103, 'cost': 110},\n",
    "    'adwords': {'revenue': 35, 'cost': 34},\n",
    "    'twitter': {'revenue': 11, 'cost': 24},\n",
    "}\n",
    "\n",
    "for values in results.values():\n",
    "    roi = (values['revenue']/values['cost'] - 1) * 100\n",
    "    values.update({'ROI': round((values['revenue']/values['cost'] - 1) * 100,2)})\n",
    "print(results)"
   ]
  },
  {
   "cell_type": "code",
   "execution_count": 103,
   "metadata": {},
   "outputs": [
    {
     "name": "stdout",
     "output_type": "stream",
     "text": [
      "Максимальный объем продаж на рекламном канале:vk\n"
     ]
    }
   ],
   "source": [
    "# Задание 4\n",
    "\n",
    "stats = {'facebook': 55, 'yandex': 115, 'vk': 120, 'google': 99, 'email': 42, 'ok': 98}\n",
    "\n",
    "max_stats = dict([max(stats.items(), key=lambda k_v: k_v[1])])\n",
    "\n",
    "for key, values in max_stats.items():\n",
    "    print(f'Максимальный объем продаж на рекламном канале:{key}')"
   ]
  },
  {
   "cell_type": "code",
   "execution_count": null,
   "metadata": {},
   "outputs": [],
   "source": [
    "# Задание 5\n",
    "\n",
    "my_list = ['2018-01-01', 'yandex', 'cpc', 100]\n",
    "\n",
    "my_dictionary = {}\n",
    "\n"
   ]
  }
 ],
 "metadata": {
  "kernelspec": {
   "display_name": "Python 3",
   "language": "python",
   "name": "python3"
  },
  "language_info": {
   "codemirror_mode": {
    "name": "ipython",
    "version": 3
   },
   "file_extension": ".py",
   "mimetype": "text/x-python",
   "name": "python",
   "nbconvert_exporter": "python",
   "pygments_lexer": "ipython3",
   "version": "3.8.3"
  }
 },
 "nbformat": 4,
 "nbformat_minor": 4
}
